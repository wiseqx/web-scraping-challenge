{
 "cells": [
  {
   "cell_type": "code",
   "execution_count": 1,
   "metadata": {},
   "outputs": [],
   "source": [
    "from bs4 import BeautifulSoup as bs\n",
    "import requests\n",
    "from splinter import Browser\n",
    "import pandas as pd\n",
    "from flask import Flask, render_template"
   ]
  },
  {
   "cell_type": "code",
   "execution_count": 16,
   "metadata": {},
   "outputs": [],
   "source": [
    "def init_browser():\n",
    "    executable_path = {'executable_path': 'chromedriver.exe'}\n",
    "    return Browser(\"chrome\", **executable_path, headless=False)\n",
    "\n",
    "\n",
    "def scrape():\n",
    "    mars_data = {}\n",
    "    # Mars news\n",
    "    news_url = 'https://mars.nasa.gov/news'\n",
    "    news_response = requests.get(news_url)\n",
    "    news_soup = bs(news_response.text, 'html.parser')\n",
    "    news_title = news_soup.find(\"div\", class_=\"content_title\").text.strip()\n",
    "    news_p = news_soup.find(\"div\", class_=\"rollover_description_inner\").text.strip()\n",
    "    \n",
    "    \n",
    "    # Featured Images\n",
    "    browser = init_browser()\n",
    "    \n",
    "    image_url = 'https://www.jpl.nasa.gov/spaceimages/?search=&category=Mars'\n",
    "    browser.visit(image_url)\n",
    "    \n",
    "    image_html = browser.html\n",
    "    img_soup = bs(image_html, 'html.parser')\n",
    "    \n",
    "    images = img_soup.find_all('a', class_ = \"fancybox\")\n",
    "    \n",
    "    url_li=[]\n",
    "    for image in images:\n",
    "        href = image['data-fancybox-href']\n",
    "        if 'largesize' in href:\n",
    "            image_url = 'https://www.jpl.nasa.gov' + href\n",
    "            url_li.append(image_url)\n",
    "            \n",
    "    featured_image_url = url_li[0]\n",
    "    \n",
    "    \n",
    "    browser.quit()\n",
    "    \n",
    "    \n",
    "    # Mars Weather\n",
    "    twitter_url = 'https://twitter.com/marswxreport?lang=en'\n",
    "    twitter_response = requests.get(twitter_url)\n",
    "    twitter_soup = bs(twitter_response.text, 'html.parser')\n",
    "    \n",
    "    weather_text = twitter_soup.find_all(\"div\", class_=\"js-tweet-text-container\")\n",
    "    weather_tweets = []\n",
    "    for weather in weather_text:\n",
    "        tweet = weather.text\n",
    "        weather_tweets.append(tweet)\n",
    "\n",
    "    mars_current_weather = weather_tweets[0]\n",
    "    \n",
    "    \n",
    "    \n",
    "    # Mars Facts\n",
    "    facts_url = \"https://space-facts.com/mars/\"\n",
    "    tables = pd.read_html(facts_url)\n",
    "    df = tables[0]\n",
    "    df.columns = ['description', 'value']\n",
    "    html_table = df.to_html(index=False)\n",
    "    \n",
    "    \n",
    "    \n",
    "    # Mars Hemisphere\n",
    "    hemisphere_url = 'https://astrogeology.usgs.gov/search/results?q=hemisphere+enhanced&k1=target&v1=Mars'\n",
    "    hemisphere_response = requests.get(hemisphere_url)\n",
    "    hemisphere_soup = bs(hemisphere_response.text, 'html.parser')\n",
    "\n",
    "    \n",
    "    high_res_images = hemisphere_soup.find_all('a', class_=\"itemLink product-item\")\n",
    "    \n",
    "    \n",
    "    hemisphere_image_urls =[]\n",
    "\n",
    "    for image in high_res_images:\n",
    "        image_dict = {}\n",
    "\n",
    "        title = image.find('h3').text\n",
    "        image_dict['title'] = title.strip(' Enhanced')\n",
    "\n",
    "        temp_img_url = image['href']\n",
    "\n",
    "        # scrape the website\n",
    "        new_image_url = 'https://astrogeology.usgs.gov' + temp_img_url\n",
    "        img_request = requests.get(new_image_url)\n",
    "        full_img_soup = bs(img_request.text, 'lxml')\n",
    "        img_tag = full_img_soup.find('div', class_ = 'downloads')\n",
    "        img_url = img_tag.find('a')['href']\n",
    "        image_dict['img_url'] = img_url\n",
    "\n",
    "\n",
    "        hemisphere_image_urls.append(image_dict)\n",
    "    \n",
    "    \n",
    "    # make a dictionary\n",
    "    mars_data = {\n",
    "        \"news_title\": news_title,\n",
    "        'news_p' : news_p,\n",
    "        'featured_image_url' : featured_image_url,\n",
    "        'mars_current_weather' : mars_current_weather,\n",
    "        'fact_table' : html_table,\n",
    "        'hemisphere_image_urls' : hemisphere_image_urls\n",
    "    }\n",
    "        \n",
    "\n",
    "    \n",
    "    \n",
    "    return mars_data"
   ]
  },
  {
   "cell_type": "code",
   "execution_count": 17,
   "metadata": {},
   "outputs": [
    {
     "data": {
      "text/plain": [
       "{'news_title': \"Mars Helicopter Attached to NASA's Perseverance Rover\",\n",
       " 'news_p': \"The team also fueled the rover's sky crane to get ready for this summer's history-making launch.\",\n",
       " 'featured_image_url': 'https://www.jpl.nasa.gov/spaceimages/images/largesize/PIA23841_hires.jpg',\n",
       " 'mars_current_weather': '\\nInSight sol 498 (2020-04-21) low -94.3ºC (-137.7ºF) high -5.7ºC (21.8ºF)\\nwinds from the SW at 5.0 m/s (11.3 mph) gusting to 16.6 m/s (37.2 mph)\\npressure at 6.60 hPapic.twitter.com/ZyqDCASvU3\\n',\n",
       " 'fact_table': '<table border=\"1\" class=\"dataframe\">\\n  <thead>\\n    <tr style=\"text-align: right;\">\\n      <th>description</th>\\n      <th>value</th>\\n    </tr>\\n  </thead>\\n  <tbody>\\n    <tr>\\n      <td>Equatorial Diameter:</td>\\n      <td>6,792 km</td>\\n    </tr>\\n    <tr>\\n      <td>Polar Diameter:</td>\\n      <td>6,752 km</td>\\n    </tr>\\n    <tr>\\n      <td>Mass:</td>\\n      <td>6.39 × 10^23 kg (0.11 Earths)</td>\\n    </tr>\\n    <tr>\\n      <td>Moons:</td>\\n      <td>2 (Phobos &amp; Deimos)</td>\\n    </tr>\\n    <tr>\\n      <td>Orbit Distance:</td>\\n      <td>227,943,824 km (1.38 AU)</td>\\n    </tr>\\n    <tr>\\n      <td>Orbit Period:</td>\\n      <td>687 days (1.9 years)</td>\\n    </tr>\\n    <tr>\\n      <td>Surface Temperature:</td>\\n      <td>-87 to -5 °C</td>\\n    </tr>\\n    <tr>\\n      <td>First Record:</td>\\n      <td>2nd millennium BC</td>\\n    </tr>\\n    <tr>\\n      <td>Recorded By:</td>\\n      <td>Egyptian astronomers</td>\\n    </tr>\\n  </tbody>\\n</table>',\n",
       " 'hemisphere_image_urls': [{'title': 'Cerberus Hemispher',\n",
       "   'img_url': 'http://astropedia.astrogeology.usgs.gov/download/Mars/Viking/cerberus_enhanced.tif/full.jpg'},\n",
       "  {'title': 'Schiaparelli Hemispher',\n",
       "   'img_url': 'http://astropedia.astrogeology.usgs.gov/download/Mars/Viking/schiaparelli_enhanced.tif/full.jpg'},\n",
       "  {'title': 'Syrtis Major Hemispher',\n",
       "   'img_url': 'http://astropedia.astrogeology.usgs.gov/download/Mars/Viking/syrtis_major_enhanced.tif/full.jpg'},\n",
       "  {'title': 'Valles Marineris Hemispher',\n",
       "   'img_url': 'http://astropedia.astrogeology.usgs.gov/download/Mars/Viking/valles_marineris_enhanced.tif/full.jpg'}]}"
      ]
     },
     "execution_count": 17,
     "metadata": {},
     "output_type": "execute_result"
    }
   ],
   "source": [
    "mars_data = scrape()\n",
    "mars_data "
   ]
  },
  {
   "cell_type": "code",
   "execution_count": 18,
   "metadata": {},
   "outputs": [
    {
     "name": "stdout",
     "output_type": "stream",
     "text": [
      "{'title': 'Cerberus Hemispher', 'img_url': 'http://astropedia.astrogeology.usgs.gov/download/Mars/Viking/cerberus_enhanced.tif/full.jpg'}\n",
      "{'title': 'Schiaparelli Hemispher', 'img_url': 'http://astropedia.astrogeology.usgs.gov/download/Mars/Viking/schiaparelli_enhanced.tif/full.jpg'}\n"
     ]
    }
   ],
   "source": [
    "for i in mars_data['hemisphere_image_urls'][:2]:\n",
    "    print(i)"
   ]
  },
  {
   "cell_type": "code",
   "execution_count": null,
   "metadata": {},
   "outputs": [],
   "source": []
  }
 ],
 "metadata": {
  "kernelspec": {
   "display_name": "Python 3",
   "language": "python",
   "name": "python3"
  },
  "language_info": {
   "codemirror_mode": {
    "name": "ipython",
    "version": 3
   },
   "file_extension": ".py",
   "mimetype": "text/x-python",
   "name": "python",
   "nbconvert_exporter": "python",
   "pygments_lexer": "ipython3",
   "version": "3.7.6"
  }
 },
 "nbformat": 4,
 "nbformat_minor": 4
}
